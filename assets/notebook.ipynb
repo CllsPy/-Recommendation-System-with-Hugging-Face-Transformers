{
  "nbformat": 4,
  "nbformat_minor": 0,
  "metadata": {
    "colab": {
      "private_outputs": true,
      "provenance": []
    },
    "kernelspec": {
      "name": "python3",
      "display_name": "Python 3"
    },
    "language_info": {
      "name": "python"
    }
  },
  "cells": [
    {
      "cell_type": "code",
      "execution_count": null,
      "metadata": {
        "id": "zAbEgVr6-pk7"
      },
      "outputs": [],
      "source": [
        "%%capture\n",
        "!pip install transformers"
      ]
    },
    {
      "cell_type": "code",
      "source": [
        "%%capture\n",
        "!pip install -U sentence-transformers"
      ],
      "metadata": {
        "id": "1fXFQbUiH9fe"
      },
      "execution_count": null,
      "outputs": []
    },
    {
      "cell_type": "code",
      "source": [
        "def process_data(dataset):\n",
        "    dataset = dataset.dropna()\n",
        "    dataset['description'] = dataset['name'] +' '+ dataset['genre'] + ' ' + dataset['type']+' episodes: '+ dataset['episodes']\n",
        "    return dataset\n",
        "\n",
        "def get_recommendations(query, embeddings, df, top_n=5):\n",
        "    query_embedding = model.encode([query])\n",
        "    similarities = cosine_similarity(query_embedding, embeddings)\n",
        "    top_indices = similarities[0].argsort()[-top_n:][::-1]\n",
        "    return df.iloc[top_indices]"
      ],
      "metadata": {
        "id": "O3qG6ZxLKi6C"
      },
      "execution_count": null,
      "outputs": []
    },
    {
      "cell_type": "code",
      "source": [
        "%%capture\n",
        "\n",
        "import torch\n",
        "import pandas as pd\n",
        "from transformers import AutoTokenizer, AutoModel\n",
        "from sentence_transformers import SentenceTransformer\n",
        "from sklearn.metrics.pairwise import cosine_similarity\n",
        "\n",
        "path = '/content/anime.csv'\n",
        "dataset = pd.read_csv(path)\n",
        "cdf = process_data(dataset)\n",
        "\n",
        "## Call model and embedding\n",
        "## description column.\n",
        "model = SentenceTransformer('sentence-transformers/all-MiniLM-L6-v2')\n",
        "anime_embeddings = model.encode(cdf['description'].tolist())"
      ],
      "metadata": {
        "id": "MRgL2n0iB7eZ"
      },
      "execution_count": null,
      "outputs": []
    },
    {
      "cell_type": "code",
      "source": [
        "query = \"Happy anime I can watch alone\"\n",
        "recommendations = get_recommendations(query, anime_embeddings, dataset)\n",
        "print(recommendations[['name']])"
      ],
      "metadata": {
        "id": "6ikgv4U5Kaqb"
      },
      "execution_count": null,
      "outputs": []
    }
  ]
}