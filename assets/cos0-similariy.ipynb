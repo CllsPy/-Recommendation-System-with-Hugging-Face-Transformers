{
  "cells": [
    {
      "cell_type": "code",
      "execution_count": 40,
      "metadata": {
        "id": "lIYdn1woOS1n"
      },
      "outputs": [],
      "source": [
        "import numpy as np\n",
        "\n",
        "A = np.arange(1, 50)\n",
        "B = np.linspace(1, -1, 49)"
      ]
    },
    {
      "cell_type": "code",
      "source": [
        "print(f'Vector 1:{A}, \\n\\n Vector 2:{B}')"
      ],
      "metadata": {
        "id": "6K-Dgld-niHu",
        "outputId": "9b706910-d371-4033-86b3-0dcc2bb799f0",
        "colab": {
          "base_uri": "https://localhost:8080/"
        }
      },
      "execution_count": 41,
      "outputs": [
        {
          "output_type": "stream",
          "name": "stdout",
          "text": [
            "Vector 1:[ 1  2  3  4  5  6  7  8  9 10 11 12 13 14 15 16 17 18 19 20 21 22 23 24\n",
            " 25 26 27 28 29 30 31 32 33 34 35 36 37 38 39 40 41 42 43 44 45 46 47 48\n",
            " 49], \n",
            "\n",
            " Vector 2:[ 1.          0.95833333  0.91666667  0.875       0.83333333  0.79166667\n",
            "  0.75        0.70833333  0.66666667  0.625       0.58333333  0.54166667\n",
            "  0.5         0.45833333  0.41666667  0.375       0.33333333  0.29166667\n",
            "  0.25        0.20833333  0.16666667  0.125       0.08333333  0.04166667\n",
            "  0.         -0.04166667 -0.08333333 -0.125      -0.16666667 -0.20833333\n",
            " -0.25       -0.29166667 -0.33333333 -0.375      -0.41666667 -0.45833333\n",
            " -0.5        -0.54166667 -0.58333333 -0.625      -0.66666667 -0.70833333\n",
            " -0.75       -0.79166667 -0.83333333 -0.875      -0.91666667 -0.95833333\n",
            " -1.        ]\n"
          ]
        }
      ]
    },
    {
      "cell_type": "code",
      "source": [
        "def cos(A, B):\n",
        "    term1 = np.dot(A, B)\n",
        "    term2 = np.dot(np.linalg.norm(A), np.linalg.norm(B))\n",
        "    final = term1/term2\n",
        "    return final\n",
        "\n",
        "cos(A, B)\n"
      ],
      "metadata": {
        "id": "JySklQHnmdkI",
        "outputId": "a9118ed5-9925-43d3-cbac-5af16523c4d1",
        "colab": {
          "base_uri": "https://localhost:8080/"
        }
      },
      "execution_count": 42,
      "outputs": [
        {
          "output_type": "execute_result",
          "data": {
            "text/plain": [
              "-0.49236596391733084"
            ]
          },
          "metadata": {},
          "execution_count": 42
        }
      ]
    }
  ],
  "metadata": {
    "colab": {
      "name": "scratchpad",
      "provenance": []
    },
    "kernelspec": {
      "display_name": "Python 3",
      "name": "python3"
    }
  },
  "nbformat": 4,
  "nbformat_minor": 0
}